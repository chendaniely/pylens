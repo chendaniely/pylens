{
 "cells": [
  {
   "cell_type": "markdown",
   "metadata": {
    "toc": "true"
   },
   "source": [
    "# Table of Contents\n",
    " <p>"
   ]
  },
  {
   "cell_type": "code",
   "execution_count": 1,
   "metadata": {
    "ExecuteTime": {
     "end_time": "2017-08-21T15:58:49.402974Z",
     "start_time": "2017-08-21T15:58:49.345471Z"
    },
    "collapsed": true
   },
   "outputs": [],
   "source": [
    "import random\n",
    "\n",
    "def flip_1_0(number):\n",
    "    \"\"\"Flip 1 to 0, and vice versa\n",
    "    :parm number: 1 or 0 to flip\n",
    "    :type number: int\n",
    "    :returns flipped value\n",
    "    :rtype: int\n",
    "    \"\"\"\n",
    "    assert number in [0, 1], 'number to flip is not a 0 or 1'\n",
    "    assert isinstance(number, int), 'number to flip is not int'\n",
    "    if number == 0:\n",
    "        return 1\n",
    "    elif number == 1:\n",
    "        return 0\n",
    "    else:\n",
    "        raise ValueError('Number to flip not 0 or 1')\n",
    "\n",
    "def mutate(list_to_mutate, mutation_prob):\n",
    "    \"\"\"Mutates each element of a list by the mutation_prob\n",
    "    Mutating means flipping the 1 to a 0 or vice versa\n",
    "    :param list_to_mutate: list of values to mutate\n",
    "    :type list_to_mutate: list\n",
    "    :param mutation_prob: probability of flipping each element in list\n",
    "    :type mutation_prob: float\n",
    "    if the mutation_prob == 0, then the original list is returned\n",
    "    else, there is a probabliy that prototype is still returned\n",
    "    \"\"\"\n",
    "    if mutation_prob > 0.0 and mutation_prob <= 1.0:\n",
    "        post_mutation_list = list_to_mutate[:]\n",
    "        for idx, value in enumerate(list_to_mutate):\n",
    "            prob = random.random()\n",
    "            if prob <= mutation_prob:\n",
    "                post_mutation_list[idx] = flip_1_0(value)\n",
    "        if ((post_mutation_list is list_to_mutate) or\n",
    "                (post_mutation_list == list_to_mutate)):\n",
    "            warnings.warn('Mutated example is equal to prototype',\n",
    "                          UserWarning)\n",
    "        return post_mutation_list\n",
    "    elif mutation_prob == 0.0:\n",
    "        return list_to_mutate\n",
    "    else:\n",
    "        raise ValueError('Incorrect value for mutation probability ' +\n",
    "                         'probability needs to be between ' +\n",
    "                         '0 and 1 inclusive')\n"
   ]
  },
  {
   "cell_type": "code",
   "execution_count": 2,
   "metadata": {
    "ExecuteTime": {
     "end_time": "2017-08-21T15:58:49.416200Z",
     "start_time": "2017-08-21T15:58:49.405568Z"
    },
    "collapsed": true
   },
   "outputs": [],
   "source": [
    "prototype = [0, 0, 0, 0, 0, 1, 1, 1, 1, 1]"
   ]
  },
  {
   "cell_type": "code",
   "execution_count": 3,
   "metadata": {
    "ExecuteTime": {
     "end_time": "2017-08-21T15:58:49.442427Z",
     "start_time": "2017-08-21T15:58:49.424392Z"
    }
   },
   "outputs": [
    {
     "data": {
      "text/plain": [
       "[1, 1, 1, 1, 1, 0, 0, 0, 0, 0]"
      ]
     },
     "execution_count": 3,
     "metadata": {},
     "output_type": "execute_result"
    }
   ],
   "source": [
    "mutate(prototype, 1)"
   ]
  },
  {
   "cell_type": "code",
   "execution_count": 4,
   "metadata": {
    "ExecuteTime": {
     "end_time": "2017-08-21T15:58:49.458051Z",
     "start_time": "2017-08-21T15:58:49.443947Z"
    }
   },
   "outputs": [
    {
     "data": {
      "text/plain": [
       "[[1, 1, 1, 1, 0, 0, 0, 0, 1, 0],\n",
       " [0, 1, 0, 1, 0, 1, 1, 0, 0, 1],\n",
       " [1, 0, 0, 1, 1, 0, 1, 1, 1, 1],\n",
       " [1, 1, 1, 1, 1, 0, 1, 1, 1, 1],\n",
       " [0, 0, 0, 1, 1, 0, 1, 1, 0, 0],\n",
       " [1, 0, 0, 1, 1, 1, 1, 1, 1, 0],\n",
       " [1, 1, 1, 0, 0, 0, 1, 1, 1, 1],\n",
       " [0, 0, 1, 0, 0, 0, 1, 0, 0, 1],\n",
       " [1, 1, 0, 1, 1, 0, 0, 0, 0, 1],\n",
       " [0, 1, 0, 0, 0, 0, 1, 1, 1, 1],\n",
       " [0, 0, 0, 0, 0, 0, 1, 1, 0, 0],\n",
       " [0, 0, 1, 1, 0, 0, 1, 0, 0, 1],\n",
       " [1, 1, 0, 1, 0, 0, 1, 1, 1, 0],\n",
       " [1, 1, 1, 1, 1, 0, 1, 0, 0, 1],\n",
       " [0, 0, 1, 0, 1, 1, 0, 0, 1, 0],\n",
       " [0, 0, 1, 1, 0, 0, 1, 0, 0, 1],\n",
       " [0, 1, 0, 0, 1, 0, 0, 1, 0, 1],\n",
       " [0, 0, 1, 1, 1, 0, 0, 0, 0, 0],\n",
       " [1, 0, 0, 1, 1, 0, 0, 1, 1, 0],\n",
       " [1, 0, 0, 1, 0, 0, 0, 1, 1, 1],\n",
       " [1, 1, 0, 0, 0, 1, 1, 0, 0, 0],\n",
       " [0, 0, 0, 1, 1, 0, 0, 1, 0, 1],\n",
       " [0, 1, 0, 1, 1, 1, 0, 0, 0, 0],\n",
       " [0, 0, 1, 0, 1, 0, 1, 0, 1, 1],\n",
       " [1, 1, 1, 1, 1, 0, 1, 1, 0, 1],\n",
       " [1, 1, 0, 1, 0, 1, 1, 1, 0, 1],\n",
       " [0, 1, 1, 1, 0, 1, 1, 1, 1, 0],\n",
       " [0, 1, 0, 1, 0, 0, 0, 0, 0, 0],\n",
       " [1, 0, 0, 1, 1, 1, 0, 0, 0, 0],\n",
       " [0, 1, 1, 0, 0, 0, 0, 0, 1, 1],\n",
       " [1, 1, 1, 0, 0, 0, 1, 0, 0, 0],\n",
       " [0, 0, 0, 0, 0, 1, 1, 0, 0, 1],\n",
       " [1, 1, 1, 1, 1, 1, 1, 0, 0, 0],\n",
       " [1, 0, 0, 0, 0, 0, 1, 0, 1, 0],\n",
       " [0, 0, 0, 0, 0, 1, 1, 0, 0, 0],\n",
       " [1, 0, 1, 0, 1, 0, 0, 1, 1, 1],\n",
       " [0, 1, 1, 1, 0, 0, 1, 1, 1, 0],\n",
       " [1, 1, 0, 0, 1, 1, 0, 1, 0, 1],\n",
       " [0, 0, 0, 1, 1, 1, 1, 0, 1, 0],\n",
       " [1, 0, 0, 0, 1, 1, 0, 0, 0, 1],\n",
       " [1, 0, 1, 0, 1, 0, 1, 1, 0, 1],\n",
       " [0, 1, 1, 1, 1, 1, 0, 0, 1, 1],\n",
       " [1, 0, 1, 0, 0, 0, 1, 0, 0, 0],\n",
       " [0, 0, 1, 0, 1, 1, 1, 1, 1, 1],\n",
       " [1, 0, 1, 1, 0, 0, 0, 0, 1, 1],\n",
       " [0, 1, 0, 0, 1, 0, 0, 1, 1, 1],\n",
       " [0, 1, 1, 0, 1, 1, 0, 0, 1, 0],\n",
       " [0, 0, 0, 0, 1, 1, 1, 1, 1, 1],\n",
       " [1, 1, 0, 0, 1, 0, 1, 0, 0, 1],\n",
       " [1, 1, 1, 0, 0, 0, 0, 0, 1, 1]]"
      ]
     },
     "execution_count": 4,
     "metadata": {},
     "output_type": "execute_result"
    }
   ],
   "source": [
    "[mutate(prototype, .5) for x in range(50)]"
   ]
  },
  {
   "cell_type": "code",
   "execution_count": null,
   "metadata": {
    "collapsed": true
   },
   "outputs": [],
   "source": []
  }
 ],
 "metadata": {
  "kernelspec": {
   "display_name": "Python 3",
   "language": "python",
   "name": "python3"
  },
  "language_info": {
   "codemirror_mode": {
    "name": "ipython",
    "version": 3
   },
   "file_extension": ".py",
   "mimetype": "text/x-python",
   "name": "python",
   "nbconvert_exporter": "python",
   "pygments_lexer": "ipython3",
   "version": "3.6.2"
  },
  "toc": {
   "colors": {
    "hover_highlight": "#DAA520",
    "navigate_num": "#000000",
    "navigate_text": "#333333",
    "running_highlight": "#FF0000",
    "selected_highlight": "#FFD700",
    "sidebar_border": "#EEEEEE",
    "wrapper_background": "#FFFFFF"
   },
   "moveMenuLeft": true,
   "nav_menu": {
    "height": "12px",
    "width": "252px"
   },
   "navigate_menu": true,
   "number_sections": true,
   "sideBar": false,
   "threshold": 4,
   "toc_cell": true,
   "toc_position": {
    "height": "128px",
    "left": "27.9896px",
    "right": "20px",
    "top": "524.983px",
    "width": "208px"
   },
   "toc_section_display": "block",
   "toc_window_display": true,
   "widenNotebook": false
  }
 },
 "nbformat": 4,
 "nbformat_minor": 2
}
